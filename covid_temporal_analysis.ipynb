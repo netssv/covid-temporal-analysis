{
 "cells": [
  {
   "cell_type": "markdown",
   "id": "85d3c830",
   "metadata": {},
   "source": [
    "# COVID-19 Temporal Analysis\n",
    "\n",
    "This notebook analyzes the temporal evolution of COVID-19 cases by country using data visualization techniques with Pandas and Plotly.\n",
    "\n",
    "## Objective\n",
    "- Load and process COVID-19 time series data\n",
    "- Create monthly aggregations by country\n",
    "- Visualize the evolution of cases over time\n",
    "- Compare trends between different countries\n",
    "\n",
    "## Requirements\n",
    "- pandas\n",
    "- plotly\n",
    "- datetime"
   ]
  },
  {
   "cell_type": "markdown",
   "id": "be70148e",
   "metadata": {},
   "source": [
    "## Step 1: Import Required Libraries"
   ]
  },
  {
   "cell_type": "code",
   "execution_count": null,
   "id": "7aacd279",
   "metadata": {},
   "outputs": [],
   "source": [
    "import pandas as pd\n",
    "import plotly.express as px\n",
    "from datetime import datetime\n",
    "import os\n",
    "\n",
    "print(\"Libraries imported successfully\")"
   ]
  },
  {
   "cell_type": "markdown",
   "id": "17fa5a14",
   "metadata": {},
   "source": [
    "## Step 2: Load COVID-19 Data\n",
    "\n",
    "Load the CSV file containing COVID-19 time series data. Make sure to place your CSV file in the same directory as this notebook."
   ]
  },
  {
   "cell_type": "code",
   "execution_count": null,
   "id": "ced4290f",
   "metadata": {},
   "outputs": [],
   "source": [
    "# Load the CSV file\n",
    "df = pd.read_csv(\"covid.csv\")\n",
    "\n",
    "# Display basic information about the dataset\n",
    "print(f\"Dataset shape: {df.shape}\")\n",
    "print(f\"Columns: {df.columns.tolist()}\")\n",
    "\n",
    "# Display first few rows\n",
    "df.head()"
   ]
  },
  {
   "cell_type": "markdown",
   "id": "1ae54438",
   "metadata": {},
   "source": [
    "## Step 3: Data Preparation\n",
    "\n",
    "Convert date columns and create monthly grouping variables for time series analysis."
   ]
  },
  {
   "cell_type": "code",
   "execution_count": null,
   "id": "e2747a3f",
   "metadata": {},
   "outputs": [],
   "source": [
    "# Convert the 'date' column to datetime format\n",
    "df['date'] = pd.to_datetime(df['date'])\n",
    "\n",
    "# Create column for grouping by year and month\n",
    "df['year_month'] = df['date'].dt.to_period('M')\n",
    "\n",
    "print(\"Dates converted successfully\")\n",
    "print(f\"Date range: {df['date'].min()} to {df['date'].max()}\")\n",
    "\n",
    "# Verify the new columns\n",
    "print(f\"Updated columns: {df.columns.tolist()}\")"
   ]
  },
  {
   "cell_type": "markdown",
   "id": "26de09c2",
   "metadata": {},
   "source": [
    "## Step 4: Monthly Aggregation\n",
    "\n",
    "Group data by country and month to create monthly summaries of COVID-19 cases."
   ]
  },
  {
   "cell_type": "code",
   "execution_count": null,
   "id": "c929e0c0",
   "metadata": {},
   "outputs": [],
   "source": [
    "# Group by country and month, taking the maximum value of cases in that month\n",
    "df_monthly = df.groupby(['country', 'year_month'])['total_cases'].max().reset_index()\n",
    "\n",
    "# Convert 'year_month' to timestamp for proper plotting\n",
    "df_monthly['date'] = df_monthly['year_month'].dt.to_timestamp()\n",
    "\n",
    "print(f\"Date range: {df_monthly['year_month'].min()} to {df_monthly['year_month'].max()}\")\n",
    "print(f\"Monthly data shape: {df_monthly.shape}\")\n",
    "\n",
    "# Example: Show data for El Salvador\n",
    "example_sv = df_monthly[df_monthly['country'] == 'El Salvador']\n",
    "print(\"\\nExample - El Salvador data:\")\n",
    "print(example_sv[['country', 'date', 'year_month', 'total_cases']].head())"
   ]
  },
  {
   "cell_type": "markdown",
   "id": "c7d57e96",
   "metadata": {},
   "source": [
    "## Step 5: Country Selection and Filtering\n",
    "\n",
    "Select specific countries for analysis and verify they exist in the dataset."
   ]
  },
  {
   "cell_type": "code",
   "execution_count": null,
   "id": "2b499c4e",
   "metadata": {},
   "outputs": [],
   "source": [
    "# Countries to analyze (you can modify these)\n",
    "countries_to_analyze = ['El Salvador', 'Guatemala', 'Honduras']\n",
    "\n",
    "# Verify that the countries exist in the dataset\n",
    "print(\"Verifying selected countries:\")\n",
    "found_countries = []\n",
    "\n",
    "for country in countries_to_analyze:\n",
    "    if country in df_monthly['country'].unique():\n",
    "        found_countries.append(country)\n",
    "        print(f\"Found: {country}\")\n",
    "    else:\n",
    "        print(f\"Not found: {country}\")\n",
    "\n",
    "# Filter data for found countries\n",
    "df_countries = df_monthly[df_monthly['country'].isin(found_countries)].copy()\n",
    "\n",
    "print(f\"\\nFiltered data: {len(df_countries)} records for {len(found_countries)} countries\")"
   ]
  },
  {
   "cell_type": "markdown",
   "id": "94b51975",
   "metadata": {},
   "source": [
    "## Step 6: Create Visualization\n",
    "\n",
    "Generate an interactive line chart showing the monthly evolution of COVID-19 cases by country."
   ]
  },
  {
   "cell_type": "code",
   "execution_count": null,
   "id": "2ef01e2a",
   "metadata": {},
   "outputs": [],
   "source": [
    "# Create the monthly evolution chart with Plotly Express\n",
    "fig = px.line(df_countries,\n",
    "              x='date',\n",
    "              y='total_cases',\n",
    "              color='country',\n",
    "              title='Monthly Evolution of Total COVID-19 Cases by Country',\n",
    "              labels={'date': 'Month', 'total_cases': 'Total Cases', 'country': 'Country'})\n",
    "\n",
    "fig.update_layout(xaxis_title=\"Month\",\n",
    "                  yaxis_title=\"Total Cases\",\n",
    "                  hovermode=\"x unified\")\n",
    "\n",
    "fig.show()"
   ]
  }
 ],
 "metadata": {
  "language_info": {
   "name": "python"
  }
 },
 "nbformat": 4,
 "nbformat_minor": 5
}
